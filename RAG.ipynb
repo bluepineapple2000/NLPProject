{
 "cells": [
  {
   "cell_type": "code",
   "execution_count": null,
   "id": "1c8dc75f",
   "metadata": {},
   "outputs": [],
   "source": [
    "import sqlite3\n",
    "import pandas as pd\n",
    "\n",
    "conn = sqlite3.connect(\"scraped_data.db\")\n",
    "\n",
    "df = pd.read_sql_query(\"SELECT * FROM reviews\", conn)\n",
    "df.head()"
   ]
  },
  {
   "cell_type": "code",
   "execution_count": null,
   "id": "a6a83100",
   "metadata": {},
   "outputs": [],
   "source": [
    "from langchain.vectorstores import FAISS\n",
    "from langchain.embeddings import HuggingFaceEmbeddings\n",
    "from langchain.llms import Ollama\n",
    "from langchain.chains import RetrievalQA\n",
    "from langchain.schema import Document\n",
    "from langchain.text_splitter import RecursiveCharacterTextSplitter\n",
    "from langchain.document_loaders import DataFrameLoader\n"
   ]
  },
  {
   "cell_type": "code",
   "execution_count": null,
   "id": "b217e3ed",
   "metadata": {},
   "outputs": [],
   "source": [
    "\n",
    "text_splitter = RecursiveCharacterTextSplitter(chunk_size=512, chunk_overlap=50)\n",
    "loader = DataFrameLoader(df, page_content_column=\"Preprocessed_Long_Text\")\n",
    "documents = loader.load()\n",
    "docs = text_splitter.split_documents(documents)\n"
   ]
  },
  {
   "cell_type": "code",
   "execution_count": null,
   "id": "33ff0604",
   "metadata": {},
   "outputs": [],
   "source": [
    "# 3. Embeddings erstellen\n",
    "embedding_model = HuggingFaceEmbeddings(model_name=\"sentence-transformers/all-MiniLM-L6-v2\")\n",
    "vectorstore = FAISS.from_documents(docs, embedding_model)"
   ]
  },
  {
   "cell_type": "code",
   "execution_count": null,
   "id": "ff23dd78",
   "metadata": {},
   "outputs": [],
   "source": [
    "# 4. LLM vorbereiten\n",
    "llm = Ollama(model=\"llama3.1:8b\")\n"
   ]
  },
  {
   "cell_type": "code",
   "execution_count": null,
   "id": "d99d874a",
   "metadata": {},
   "outputs": [],
   "source": [
    "# 5. RetrievalQA-Chain\n",
    "qa_chain = RetrievalQA.from_chain_type(\n",
    "    llm=llm,\n",
    "    retriever=vectorstore.as_retriever(search_kwargs={\"k\": 5}),\n",
    "    return_source_documents=True\n",
    ")\n"
   ]
  },
  {
   "cell_type": "code",
   "execution_count": null,
   "id": "1e64e9b3",
   "metadata": {},
   "outputs": [],
   "source": [
    "# 6. Frage an LLM\n",
    "query = \"What is good about elden ring?\"\n",
    "result = qa_chain(query)\n",
    "\n",
    "print(\"Antwort:\")\n",
    "print(result[\"result\"])\n",
    "print(\"\\nQuellen (Ausschnitte):\")\n",
    "for doc in result[\"source_documents\"]:\n",
    "    print(f\" - {doc.page_content[:200]}...\\n\")\n"
   ]
  }
 ],
 "metadata": {
  "kernelspec": {
   "display_name": "fastai-env",
   "language": "python",
   "name": "python3"
  },
  "language_info": {
   "codemirror_mode": {
    "name": "ipython",
    "version": 3
   },
   "file_extension": ".py",
   "mimetype": "text/x-python",
   "name": "python",
   "nbconvert_exporter": "python",
   "pygments_lexer": "ipython3",
   "version": "3.10.18"
  }
 },
 "nbformat": 4,
 "nbformat_minor": 5
}
