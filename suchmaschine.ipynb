{
 "cells": [
  {
   "cell_type": "code",
   "execution_count": null,
   "id": "2143aeff",
   "metadata": {},
   "outputs": [],
   "source": [
    "from sklearn.feature_extraction.text import TfidfVectorizer\n",
    "from sklearn.metrics.pairwise import cosine_similarity\n",
    "from scipy.spatial import KDTree\n",
    "import pandas as pd\n",
    "import sqlite3\n",
    "import spacy\n",
    "from tqdm.notebook import tqdm\n",
    "import joblib"
   ]
  },
  {
   "cell_type": "code",
   "execution_count": 37,
   "id": "9e199038",
   "metadata": {},
   "outputs": [],
   "source": [
    "# Read data from Database\n",
    "conn = sqlite3.connect(\"scraped_data.db\")\n",
    "\n",
    "df = pd.read_sql_query(\"SELECT Preprocessed_Long_Text, Title, URL FROM reviews\", conn)\n"
   ]
  },
  {
   "cell_type": "code",
   "execution_count": 38,
   "id": "a8f44eed",
   "metadata": {},
   "outputs": [
    {
     "data": {
      "text/plain": [
       "['data/tfidf_matrix.joblib']"
      ]
     },
     "execution_count": 38,
     "metadata": {},
     "output_type": "execute_result"
    }
   ],
   "source": [
    "corpus = df['Preprocessed_Long_Text'].tolist()\n",
    "\n",
    "v = TfidfVectorizer()\n",
    "\n",
    "vec = v.fit_transform(corpus)\n",
    "\n",
    "joblib.dump(v, 'data/Ttfidf_vectorizer.joblib')\n",
    "joblib.dump(vec, 'data/tfidf_matrix.joblib')"
   ]
  },
  {
   "cell_type": "code",
   "execution_count": 39,
   "id": "fe3642b3-be77-4693-aac1-b8c6a3860c38",
   "metadata": {},
   "outputs": [],
   "source": [
    "# Load datasets\n",
    "v = joblib.load('data/Ttfidf_vectorizer.joblib')\n",
    "vec = joblib.load('data/tfidf_matrix.joblib')\n"
   ]
  },
  {
   "cell_type": "code",
   "execution_count": null,
   "id": "520a103e-7390-4852-bb2c-c55f010e18d5",
   "metadata": {},
   "outputs": [],
   "source": [
    "# Suchmaschine\n",
    "\n",
    "def search(query, top_k=3):\n",
    "    query_vec = v.transform([query])\n",
    "\n",
    "    # Kosinus-Ähnlichkeit berechnen\n",
    "    similarities = cosine_similarity(query_vec, vec).flatten()\n",
    "    ranked_indices = similarities.argsort()[::-1]\n",
    "\n",
    "    print(ranked_indices)\n",
    "    \n",
    "    results = []\n",
    "    for idx in ranked_indices[:top_k]:\n",
    "        results.append({\n",
    "            \"doc_id\": idx,\n",
    "            \"similarity\": similarities[idx],\n",
    "            \"Title\": df.iloc[idx]['Title'], \n",
    "            #\"URL\": df.iloc[idx]['URL']\n",
    "        })\n",
    "    \n",
    "    return pd.DataFrame(results)"
   ]
  },
  {
   "cell_type": "code",
   "execution_count": null,
   "id": "6d15cd55-3f69-4f6d-b8b0-5d2d569fb0de",
   "metadata": {},
   "outputs": [],
   "source": [
    "# Suchmaschine mit KDtree\n",
    "# Normieren, damit euklidische Distanz der Cosine-Similarity entspricht\n",
    "tree = KDTree(vec.toarray())\n",
    "\n",
    "def search_kdtree(query, top_k=10):\n",
    "    query_vec = v.transform([query])\n",
    "    query_vec = normalize(query_vec)\n",
    "\n",
    "    dist, ind = tree.query(query_vec.toarray(), k=top_k)\n",
    "\n",
    "    results = []\n",
    "    for i in range(top_k):\n",
    "        idx = ind[0][i]\n",
    "        results.append({\n",
    "            \"doc_id\": idx,\n",
    "            \"similarity\": 1 - dist[0][i],  \n",
    "            \"Title\": df.iloc[idx]['Title'],\n",
    "            # \"URL\": df.iloc[idx]['URL'],\n",
    "        })\n",
    "    \n",
    "    return pd.DataFrame(results)\n",
    "    "
   ]
  },
  {
   "cell_type": "code",
   "execution_count": null,
   "id": "cd2e93fb-32b5-48cb-8fc6-9073b4782535",
   "metadata": {},
   "outputs": [],
   "source": [
    "# Preprocessing for Queries\n",
    "tqdm.pandas()\n",
    "nlp = spacy.load(\"en_core_web_sm\")\n",
    "\n",
    "def queryPreprocessing(text): \n",
    "    if not isinstance(text, str):\n",
    "        return []\n",
    "\n",
    "    \n",
    "    doc = nlp(text.lower()) \n",
    "    tokens = [\n",
    "            token.lemma_ \n",
    "            for token in doc\n",
    "            if token.is_alpha and not token.is_stop \n",
    "        ]\n",
    "    string_list =\" \".join(tokens)\n",
    "    return string_list"
   ]
  },
  {
   "cell_type": "code",
   "execution_count": 43,
   "id": "b4f40c43-ed95-46af-87bd-c25d8abdcf50",
   "metadata": {},
   "outputs": [
    {
     "name": "stdout",
     "output_type": "stream",
     "text": [
      "resident evil\n",
      "[ 241 2394  281 ... 4243 4242 4219]\n",
      "    doc_id  similarity                                              Title\n",
      "0      241    0.786363               Resident Evil 3 Single-Player Review\n",
      "1     2394    0.686827                  Resident Evil 7: Biohazard Review\n",
      "2      281    0.593735                             Resident Evil 2 Review\n",
      "3      188    0.579148                          Resident Evil 4 VR Review\n",
      "4     5861    0.566460                               Resident Evil Gaiden\n",
      "5     2784    0.540514                             Resident Evil 6 Review\n",
      "6     5166    0.515354  Resident Evil Archives: Resident Evil Zero Review\n",
      "7     1693    0.510899                               Resident Evil Review\n",
      "8     3197    0.492573              Resident Evil Zero HD Remaster Review\n",
      "9     1211    0.485018                       Resident Evil Village Review\n",
      "10     821    0.481816               Resident Evil 5: Gold Edition Review\n",
      "11    1033    0.479182                   Resident Evil 4 Remake VR Review\n",
      "12     240    0.461147                       Resident Evil 3 Final Review\n",
      "13    4764    0.458797                   Resident Evil Zero Import Review\n",
      "14    1087    0.443727                    Resident Evil Village VR Review\n",
      "15       6    0.435519                             Resident Evil 4 Review\n",
      "16    3958    0.413388                      Resident Evil Re:Verse Review\n",
      "17    2978    0.393609  Resident Evil Village: The Winters' Expansion ...\n",
      "18    6490    0.377536                                    Resident Evil 2\n",
      "19    3538    0.373321         Resident Evil Mercenaries VS iPhone Review\n"
     ]
    }
   ],
   "source": [
    "# Suchmaschine testen \n",
    "\n",
    "query = \"Resident has Evil\"\n",
    "query = queryPreprocessing(query)\n",
    "\n",
    "print(query)\n",
    "results = search(query, top_k=20)\n",
    "print(results)"
   ]
  },
  {
   "cell_type": "code",
   "execution_count": 44,
   "id": "bf40b8d2-262b-4f7e-8fc2-f3c0772b078d",
   "metadata": {},
   "outputs": [
    {
     "name": "stdout",
     "output_type": "stream",
     "text": [
      "resident evil\n",
      "    doc_id  similarity                                              Title\n",
      "0      241    0.346338               Resident Evil 3 Single-Player Review\n",
      "1     2394    0.208579                  Resident Evil 7: Biohazard Review\n",
      "2      281    0.098595                             Resident Evil 2 Review\n",
      "3      188    0.082555                          Resident Evil 4 VR Review\n",
      "4     5861    0.068829                               Resident Evil Gaiden\n",
      "5     2784    0.041370                             Resident Evil 6 Review\n",
      "6     5166    0.015474  Resident Evil Archives: Resident Evil Zero Review\n",
      "7     1693    0.010959                               Resident Evil Review\n",
      "8     5540    0.000000                            Error 502 - Bad Gateway\n",
      "9     4394    0.000000                 Metal Gear Solid Touch iPad Review\n",
      "10    2853    0.000000                            Error 502 - Bad Gateway\n",
      "11    4395    0.000000                        Resident Evil 4 iPad Review\n",
      "12    5417    0.000000                            Error 502 - Bad Gateway\n",
      "13    2569    0.000000                            Error 502 - Bad Gateway\n",
      "14    3089    0.000000                            Error 502 - Bad Gateway\n",
      "15    2225    0.000000                            Error 502 - Bad Gateway\n",
      "16    3777    0.000000                            Error 502 - Bad Gateway\n",
      "17    5389    0.000000                            Error 502 - Bad Gateway\n",
      "18    1543    0.000000  The Walking Dead: The Telltale Series - A New ...\n",
      "19    3479    0.000000                            Error 502 - Bad Gateway\n"
     ]
    }
   ],
   "source": [
    "# search with KDTree \n",
    "\n",
    "query = \"Resident has Evil\"\n",
    "query = queryPreprocessing(query)\n",
    "\n",
    "print(query)\n",
    "results = search_kdtree(query,top_k=20)\n",
    "print(results)\n"
   ]
  },
  {
   "cell_type": "code",
   "execution_count": null,
   "id": "2ecc89a1-67cf-4c95-b111-26b07724fd64",
   "metadata": {},
   "outputs": [],
   "source": []
  }
 ],
 "metadata": {
  "kernelspec": {
   "display_name": "Python 3 (ipykernel)",
   "language": "python",
   "name": "python3"
  },
  "language_info": {
   "codemirror_mode": {
    "name": "ipython",
    "version": 3
   },
   "file_extension": ".py",
   "mimetype": "text/x-python",
   "name": "python",
   "nbconvert_exporter": "python",
   "pygments_lexer": "ipython3",
   "version": "3.12.7"
  }
 },
 "nbformat": 4,
 "nbformat_minor": 5
}
