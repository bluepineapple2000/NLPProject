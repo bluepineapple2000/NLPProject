{
 "cells": [
  {
   "cell_type": "code",
   "execution_count": 17,
   "id": "2143aeff",
   "metadata": {},
   "outputs": [],
   "source": [
    "from sklearn.feature_extraction.text import CountVectorizer\n",
    "from sklearn.feature_extraction.text import TfidfVectorizer\n",
    "from sklearn.metrics.pairwise import cosine_similarity\n",
    "from scipy.sparse.linalg import norm\n",
    "from scipy.spatial import KDTree\n",
    "from scipy import sparse\n",
    "import pandas as pd\n",
    "import numpy as np\n",
    "import re\n",
    "import json"
   ]
  },
  {
   "cell_type": "code",
   "execution_count": 42,
   "id": "9e199038",
   "metadata": {},
   "outputs": [
    {
     "name": "stdout",
     "output_type": "stream",
     "text": [
      "                              Preprocessed_Long_Text  \\\n",
      "0  space conquest game penny include good war boa...   \n",
      "1  give elden ring year ago incredible game raise...   \n",
      "2  editor note review take fresh look stardew val...   \n",
      "3  patiently wait sideline vr reason couch flail ...   \n",
      "4  long game come memorable exciting fresh write ...   \n",
      "5  ask want sequel legend zelda breath wild enemy...   \n",
      "6  light high quality remake resident evil releas...   \n",
      "7  ask favorite roguelike answer confidently unab...   \n",
      "8  decade original release metroid prime problem ...   \n",
      "9  seven dwarf set mountainhome establish new col...   \n",
      "\n",
      "                                              Title  \\\n",
      "0                            Arcs Board Game Review   \n",
      "1      Elden Ring: Shadow of the Erdtree DLC Review   \n",
      "2                      Stardew Valley Review - 2024   \n",
      "3                           Asgard’s Wrath 2 Review   \n",
      "4                            Baldur's Gate 3 Review   \n",
      "5  The Legend of Zelda: Tears of the Kingdom Review   \n",
      "6                            Resident Evil 4 Review   \n",
      "7          Dead Cells: Return to Castlevania Review   \n",
      "8                   Metroid Prime Remastered Review   \n",
      "9                             Dwarf Fortress Review   \n",
      "\n",
      "                                                 URL  \n",
      "0  https://www.ign.com/articles/arcs-board-game-r...  \n",
      "1  https://www.ign.com/articles/elden-ring-shadow...  \n",
      "2  https://www.ign.com/articles/stardew-valley-re...  \n",
      "3  https://www.ign.com/articles/asgards-wrath-2-r...  \n",
      "4  https://www.ign.com/articles/baldurs-gate-3-re...  \n",
      "5  https://www.ign.com/articles/the-legend-of-zel...  \n",
      "6  https://www.ign.com/articles/resident-evil-4-r...  \n",
      "7  https://www.ign.com/articles/dead-cells-return...  \n",
      "8  https://www.ign.com/articles/metroid-prime-rem...  \n",
      "9  https://www.ign.com/articles/dwarf-fortress-re...  \n"
     ]
    }
   ],
   "source": [
    "import sqlite3\n",
    "\n",
    "conn = sqlite3.connect(\"scraped_data.db\")\n",
    "\n",
    "df = pd.read_sql_query(\"SELECT Preprocessed_Long_Text, Title, URL FROM reviews\", conn)\n",
    "df = df.head(10)\n",
    "\n",
    "print(df)"
   ]
  },
  {
   "cell_type": "code",
   "execution_count": 43,
   "id": "a8f44eed",
   "metadata": {},
   "outputs": [],
   "source": [
    "corpus = df['Preprocessed_Long_Text'].tolist()\n",
    "\n",
    "v = TfidfVectorizer()\n",
    "\n",
    "vec = v.fit_transform(corpus)\n",
    "\n",
    "\n",
    "#print(v.get_feature_names_out())"
   ]
  },
  {
   "cell_type": "code",
   "execution_count": 44,
   "id": "ef94dd87-091f-42dc-b6cb-d6acf15b6452",
   "metadata": {},
   "outputs": [
    {
     "name": "stdout",
     "output_type": "stream",
     "text": [
      "(10, 3496)\n"
     ]
    }
   ],
   "source": [
    "print(vec.shape)\n",
    "#print(v.vocabulary_)\n",
    "#print(v.get_feature_names_out())\n",
    "#print(pd.DataFrame(vec.toarray(), columns=v.get_feature_names_out()))"
   ]
  },
  {
   "cell_type": "code",
   "execution_count": 45,
   "id": "e4e5e9fe-8214-4716-8f6e-2a8bcc087a99",
   "metadata": {},
   "outputs": [
    {
     "name": "stdout",
     "output_type": "stream",
     "text": [
      "0    0.016064\n",
      "1    0.015815\n",
      "2    0.012226\n",
      "3    0.000000\n",
      "4    0.000000\n",
      "5    0.008932\n",
      "6    0.039591\n",
      "7    0.000000\n",
      "8    0.000000\n",
      "9    0.008854\n",
      "Name: war, dtype: float64\n"
     ]
    }
   ],
   "source": [
    "#einzelne Wörter oder Vektoren inspizieren \n",
    "test = pd.DataFrame(vec.toarray(), columns=v.get_feature_names_out())\n",
    "print(test[\"war\"])\n"
   ]
  },
  {
   "cell_type": "code",
   "execution_count": 46,
   "id": "093b9503-911a-4682-918c-52776b077950",
   "metadata": {},
   "outputs": [
    {
     "name": "stdout",
     "output_type": "stream",
     "text": [
      "[[0.02744769 0.00925576 0.02088949 0.         0.         0.00522776\n",
      "  0.02317147 0.01355248 0.         0.00518203]]\n"
     ]
    }
   ],
   "source": [
    "# Eine Suchanfrage mit dem Korpus vergleichen \n",
    "\n",
    "query = [\"war empire\"]  # auch preprocessen!\n",
    "query_vec = v.transform(query)  # Wichtig: transform(), nicht fit_transform()\n",
    "\n",
    "scores = cosine_similarity(query_vec, vec)\n",
    "print(scores)\n"
   ]
  },
  {
   "cell_type": "code",
   "execution_count": 69,
   "id": "520a103e-7390-4852-bb2c-c55f010e18d5",
   "metadata": {},
   "outputs": [],
   "source": [
    "# Suchmaschine\n",
    "\n",
    "def search(query, top_k=3):\n",
    "    # Preprocessing falls nötig (hier angenommen, dass der Query-Text sauber ist)\n",
    "    query_vec = v.transform([query])\n",
    "\n",
    "    # Kosinus-Ähnlichkeit berechnen\n",
    "    similarities = cosine_similarity(query_vec, vec).flatten()\n",
    "\n",
    "    # Ergebnisse sortieren (nach Ähnlichkeit absteigend)\n",
    "    ranked_indices = similarities.argsort()[::-1]\n",
    "\n",
    "    print(ranked_indices)\n",
    "    \n",
    "    # Ausgabe der Top-Ergebnisse\n",
    "    results = []\n",
    "    for idx in ranked_indices[:top_k]:\n",
    "        results.append({\n",
    "            \"doc_id\": idx,\n",
    "            \"similarity\": similarities[idx],\n",
    "            \"Title\": df.iloc[idx]['Title'], \n",
    "            #\"URL\": df.iloc[idx]['URL']\n",
    "        })\n",
    "    \n",
    "    return pd.DataFrame(results)"
   ]
  },
  {
   "cell_type": "code",
   "execution_count": 77,
   "id": "cd2e93fb-32b5-48cb-8fc6-9073b4782535",
   "metadata": {},
   "outputs": [],
   "source": [
    "import spacy\n",
    "from tqdm.notebook import tqdm\n",
    "\n",
    "tqdm.pandas()\n",
    "\n",
    "\n",
    "nlp = spacy.load(\"en_core_web_sm\")\n",
    "\n",
    "def queryPreprocessing(text): \n",
    "    if not isinstance(text, str):\n",
    "        return []\n",
    "\n",
    "    \n",
    "    doc = nlp(text.lower()) # kleinbuchstaben\n",
    "    tokens = [\n",
    "            token.lemma_ # lemmatisierung\n",
    "            for token in doc\n",
    "            if token.is_alpha and not token.is_stop # zahlen entfernen und stopwörter\n",
    "        ]\n",
    "    string_list =\" \".join(tokens)\n",
    "    return string_list"
   ]
  },
  {
   "cell_type": "code",
   "execution_count": 82,
   "id": "b4f40c43-ed95-46af-87bd-c25d8abdcf50",
   "metadata": {},
   "outputs": [
    {
     "name": "stdout",
     "output_type": "stream",
     "text": [
      "resident evil\n",
      "[6 2 8 9 7 3 5 4 1 0]\n",
      "   doc_id  similarity                            Title\n",
      "0       6    0.371629           Resident Evil 4 Review\n",
      "1       2    0.020252     Stardew Valley Review - 2024\n",
      "2       8    0.016634  Metroid Prime Remastered Review\n"
     ]
    }
   ],
   "source": [
    "# Suchmaschine testen \n",
    "\n",
    "query = \"Resident has Evil\"\n",
    "query = queryPreprocessing(query)\n",
    "\n",
    "print(query)\n",
    "results = search(query)\n",
    "print(results)"
   ]
  },
  {
   "cell_type": "code",
   "execution_count": null,
   "id": "bf40b8d2-262b-4f7e-8fc2-f3c0772b078d",
   "metadata": {},
   "outputs": [],
   "source": [
    "# To-Do: Store Model so not needed to retrain\n",
    "\n",
    "# To-Do: Implement KDTree"
   ]
  }
 ],
 "metadata": {
  "kernelspec": {
   "display_name": "Python 3 (ipykernel)",
   "language": "python",
   "name": "python3"
  },
  "language_info": {
   "codemirror_mode": {
    "name": "ipython",
    "version": 3
   },
   "file_extension": ".py",
   "mimetype": "text/x-python",
   "name": "python",
   "nbconvert_exporter": "python",
   "pygments_lexer": "ipython3",
   "version": "3.12.7"
  }
 },
 "nbformat": 4,
 "nbformat_minor": 5
}
