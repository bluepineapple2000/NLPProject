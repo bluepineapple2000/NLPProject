{
 "cells": [
  {
   "cell_type": "code",
   "execution_count": 118,
   "id": "03663ef3",
   "metadata": {
    "vscode": {
     "languageId": "plaintext"
    }
   },
   "outputs": [
    {
     "data": {
      "text/plain": [
       "<torch._C.Generator at 0x7f3c4d6079b0>"
      ]
     },
     "execution_count": 118,
     "metadata": {},
     "output_type": "execute_result"
    }
   ],
   "source": [
    "import sqlite3\n",
    "import pandas as pd\n",
    "from sklearn.model_selection import train_test_split\n",
    "from sklearn.metrics import accuracy_score, confusion_matrix, ConfusionMatrixDisplay\n",
    "import torch, re\n",
    "import torch.nn as nn\n",
    "from torch.utils.data import TensorDataset, DataLoader\n",
    "import matplotlib.pyplot as plt\n",
    "from collections import Counter\n",
    "import time\n",
    "\n",
    "torch.manual_seed(1)"
   ]
  },
  {
   "cell_type": "code",
   "execution_count": 204,
   "id": "2c3b2138",
   "metadata": {
    "vscode": {
     "languageId": "plaintext"
    }
   },
   "outputs": [],
   "source": [
    "conn = sqlite3.connect(\"scraped_data.db\")\n",
    "\n",
    "df = pd.read_sql_query(\"SELECT * FROM reviews\", conn)\n",
    "#sample_df = df.sample(n=6500, random_state=42)  # random_state for reproducibility\n",
    "\n",
    "# Drop all rows with at least one NaN\n",
    "df_clean = df.dropna(subset=['Score', 'Review_Text'])\n",
    "#Test on only few data examples\n",
    "#df_clean = df.sample(n=1000, random_state=42)  # random_state for reproducibility\n",
    "\n",
    "#X = df_clean['Tokenized_Long_Text']\n",
    "X = df_clean['Review_Text']\n",
    "Y = df_clean['Score']\n",
    "pd.set_option('display.max_colwidth', None)\n"
   ]
  },
  {
   "cell_type": "code",
   "execution_count": 206,
   "id": "7497c3ab-26b9-4dc7-a808-8492a5f8c1f1",
   "metadata": {},
   "outputs": [],
   "source": [
    "X_train, X_test, y_train, y_test = train_test_split(X, Y, test_size=0.20, random_state=42)\n",
    "\n",
    "X_train, X_val, y_train, y_val = train_test_split(X_train, y_train, test_size=0.1, random_state=42)\n"
   ]
  },
  {
   "cell_type": "code",
   "execution_count": 207,
   "id": "12ebe1a4-3029-4a73-98ad-9c1ba7d0bf34",
   "metadata": {},
   "outputs": [],
   "source": [
    "#Tokenize data \n",
    "def simple_tokenise(text):\n",
    "    return re.findall(r\"[A-Za-z0-9']+\", text.lower())\n",
    "\n",
    "tokenised_train = [simple_tokenise(t) for t in X_train]\n",
    "tokenised_val   = [simple_tokenise(t) for t in X_val]\n",
    "tokenised_test  = [simple_tokenise(t) for t in X_test]\n",
    "\n",
    "tokenised = tokenised_test + tokenised_val + tokenised_train\n",
    "\n",
    "counter = Counter(w for sent in tokenised for w in sent)\n",
    "specials = [\"<pad>\", \"<unk>\"]\n",
    "stoi = {w:i+len(specials) for i,(w,_) in enumerate(counter.most_common())}\n",
    "stoi.update({sp:i for i,sp in enumerate(specials)}) \n",
    "unk, pad = stoi[\"<unk>\"], stoi[\"<pad>\"]"
   ]
  },
  {
   "cell_type": "code",
   "execution_count": 208,
   "id": "1704ba72-ac18-48ae-9981-372491c68c1e",
   "metadata": {},
   "outputs": [
    {
     "name": "stdout",
     "output_type": "stream",
     "text": [
      "69\n"
     ]
    }
   ],
   "source": [
    "max_len = 100\n",
    "max_len = int(max(len(s) for s in tokenised))\n",
    "print(max_len)\n",
    "\n",
    "def encode(sent):\n",
    "    ids = [stoi.get(w, unk) for w in sent][:max_len]\n",
    "    return torch.tensor(ids + [pad]*(max_len-len(ids)), dtype=torch.long)\n",
    "\n",
    "encoded_train = torch.stack([encode(s) for s in tokenised_train])\n",
    "encoded_val   = torch.stack([encode(s) for s in tokenised_val])\n",
    "encoded_test  = torch.stack([encode(s) for s in tokenised_test])"
   ]
  },
  {
   "cell_type": "code",
   "execution_count": 209,
   "id": "deb01673-d056-4378-8a84-af9a47fa8375",
   "metadata": {},
   "outputs": [],
   "source": [
    "y_train = torch.tensor(y_train.values - 1, dtype=torch.long)  \n",
    "y_val = torch.tensor(y_val.values - 1, dtype=torch.long)\n",
    "y_test = torch.tensor(y_test.values - 1, dtype=torch.long)"
   ]
  },
  {
   "cell_type": "code",
   "execution_count": 219,
   "id": "0652225c-07ae-408e-9f5e-32a0839d131d",
   "metadata": {},
   "outputs": [],
   "source": [
    "# könnte vergrößert werden\n",
    "batch_size = 512\n",
    "train_loader = DataLoader(\n",
    "    TensorDataset(encoded_train, y_train), shuffle=True, batch_size=batch_size\n",
    ")\n",
    "val_loader = DataLoader(\n",
    "    TensorDataset(encoded_val, y_val), shuffle=False, batch_size=batch_size\n",
    ")\n",
    "test_loader = DataLoader(\n",
    "    TensorDataset(encoded_test, y_test), shuffle=False, batch_size=batch_size\n",
    ")"
   ]
  },
  {
   "cell_type": "code",
   "execution_count": 220,
   "id": "9d1681c2-eff7-4131-aaf0-efcbacdfa4a6",
   "metadata": {},
   "outputs": [],
   "source": [
    "class ReviewLSTM(nn.Module):\n",
    "    def __init__(self, vocab_size, embed_dim=128, lstm_units=128, num_classes=10):\n",
    "        super().__init__()display_labels = sorted(set(gts)) \n",
    "        self.emb  = nn.Embedding(vocab_size, embed_dim, padding_idx=pad)\n",
    "        self.lstm = nn.LSTM(embed_dim, lstm_units, batch_first=True, bidirectional=True)\n",
    "        self.pool = nn.AdaptiveMaxPool1d(1)\n",
    "        self.fc   = nn.Linear(lstm_units*2, num_classes)    # I also tried with regression, didn't get better results\n",
    "\n",
    "    def forward(self, x):\n",
    "        x = self.emb(x)                        \n",
    "        x, _ = self.lstm(x)                    \n",
    "        x = self.pool(x.transpose(1,2)).squeeze(-1)  \n",
    "        return self.fc(x)                    \n",
    "\n",
    "model = ReviewLSTM(len(stoi))"
   ]
  },
  {
   "cell_type": "code",
   "execution_count": 221,
   "id": "8ae42ce4-3415-4572-aa79-32b01aa3b513",
   "metadata": {},
   "outputs": [
    {
     "name": "stdout",
     "output_type": "stream",
     "text": [
      "Using cuda\n"
     ]
    }
   ],
   "source": [
    "device = torch.device(\"cuda\" if torch.cuda.is_available() else \"cpu\")\n",
    "print(\"Using\", device)"
   ]
  },
  {
   "cell_type": "code",
   "execution_count": 222,
   "id": "87c091f4-8ee9-4f0c-bd01-5362e3ade0ff",
   "metadata": {},
   "outputs": [],
   "source": [
    " torch.cuda.empty_cache()"
   ]
  },
  {
   "cell_type": "code",
   "execution_count": 223,
   "id": "84e87e57-2c20-452b-93fa-0d7cfd878ffc",
   "metadata": {},
   "outputs": [],
   "source": [
    "model = ReviewLSTM(vocab_size=len(stoi)).to(device)\n",
    "criterion = nn.CrossEntropyLoss()\n",
    "# 1.5e-1\n",
    "optimiser = torch.optim.Adam(model.parameters(), lr=1e-1)\n",
    "\n",
    "patience = 10\n",
    "best_val_acc = 0\n",
    "epochs_no_improve = 0\n",
    "num_epochs = 100"
   ]
  },
  {
   "cell_type": "code",
   "execution_count": 224,
   "id": "00f99d34-cd3e-4fd2-9a6d-33f59d8196f7",
   "metadata": {},
   "outputs": [
    {
     "name": "stdout",
     "output_type": "stream",
     "text": [
      "Epoch  1 | train loss 4.1380 | val loss 2.4316 | val acc 17.69% | time 1.3s\n",
      "Epoch  2 | train loss 2.0313 | val loss 2.0496 | val acc 21.30% | time 1.2s\n",
      "Epoch  3 | train loss 1.6516 | val loss 2.1351 | val acc 22.92% | time 1.2s\n",
      "Epoch  4 | train loss 1.4415 | val loss 2.1931 | val acc 23.29% | time 1.3s\n",
      "Epoch  5 | train loss 1.2929 | val loss 2.2939 | val acc 23.65% | time 1.2s\n",
      "Epoch  6 | train loss 1.2048 | val loss 2.3891 | val acc 22.38% | time 1.2s\n",
      "Epoch  7 | train loss 1.1529 | val loss 2.5298 | val acc 20.76% | time 1.2s\n",
      "Epoch  8 | train loss 1.1091 | val loss 2.6611 | val acc 21.30% | time 1.2s\n",
      "Epoch  9 | train loss 1.0846 | val loss 2.7528 | val acc 21.84% | time 1.3s\n",
      "Epoch 10 | train loss 1.0715 | val loss 2.7708 | val acc 22.20% | time 1.2s\n",
      "Epoch 11 | train loss 1.0512 | val loss 2.8985 | val acc 21.30% | time 1.2s\n",
      "Epoch 12 | train loss 1.0459 | val loss 2.9126 | val acc 22.38% | time 1.2s\n",
      "Epoch 13 | train loss 1.0545 | val loss 2.9955 | val acc 22.56% | time 1.2s\n",
      "Epoch 14 | train loss 1.0524 | val loss 2.9735 | val acc 22.38% | time 1.2s\n",
      "Epoch 15 | train loss 1.0400 | val loss 2.9985 | val acc 22.20% | time 1.2s\n",
      "Early stopping triggered.\n"
     ]
    }
   ],
   "source": [
    "for epoch in range(1, num_epochs + 1):\n",
    "    t0 = time.time()\n",
    "    # ---- train ----\n",
    "    model.train()\n",
    "    train_loss = 0\n",
    "    for Xb, yb in train_loader:\n",
    "        Xb, yb = Xb.to(device), yb.to(device)\n",
    "        optimiser.zero_grad()\n",
    "        logits = model(Xb)\n",
    "        loss = criterion(logits, yb)\n",
    "        loss.backward()\n",
    "        optimiser.step()\n",
    "        train_loss += loss.item() * Xb.size(0)\n",
    "\n",
    "    # ---- validate ----\n",
    "    model.eval()\n",
    "    val_loss, preds, gts = 0, [], []\n",
    "    with torch.no_grad():\n",
    "        for Xb, yb in val_loader:\n",
    "            Xb, yb = Xb.to(device), yb.to(device)\n",
    "            logits = model(Xb)\n",
    "            loss = criterion(logits, yb)\n",
    "            val_loss += loss.item() * Xb.size(0)\n",
    "            preds.extend(logits.argmax(1).cpu().tolist())\n",
    "            gts.extend(yb.cpu().tolist())\n",
    "\n",
    "    train_loss /= len(train_loader.dataset)\n",
    "    val_loss   /= len(val_loader.dataset)\n",
    "    val_acc     = accuracy_score(gts, preds)\n",
    "\n",
    "    print(f\"Epoch {epoch:2d} | \"\n",
    "          f\"train loss {train_loss:.4f} | \"\n",
    "          f\"val loss {val_loss:.4f} | \"\n",
    "          f\"val acc {val_acc*100:5.2f}% | \"\n",
    "          f\"time {time.time()-t0:.1f}s\")\n",
    "\n",
    "\n",
    "    # ---- early stopping ----\n",
    "    if val_acc > best_val_acc:\n",
    "        best_val_acc = val_acc\n",
    "        torch.save(model.state_dict(), \"best_review_lstm.pth\")\n",
    "        epochs_no_improve = 0\n",
    "    else:\n",
    "        epochs_no_improve += 1\n",
    "        if epochs_no_improve >= patience:\n",
    "            print(\"Early stopping triggered.\")\n",
    "            break"
   ]
  },
  {
   "cell_type": "code",
   "execution_count": 225,
   "id": "b66bb8cf-8e24-4b98-8695-a787fc73b007",
   "metadata": {},
   "outputs": [
    {
     "name": "stdout",
     "output_type": "stream",
     "text": [
      "\n",
      "Test accuracy: 28.72%\n"
     ]
    },
    {
     "data": {
      "image/png": "[encoded data removed]",
      "text/plain": [
       "<Figure size 600x600 with 2 Axes>"
      ]
     },
     "metadata": {},
     "output_type": "display_data"
    }
   ],
   "source": [
    "# Vizualization\n",
    "model.eval()\n",
    "preds, gts = [], []\n",
    "with torch.no_grad():\n",
    "    for Xb, yb in test_loader:\n",
    "        Xb = Xb.to(device)\n",
    "        logits = model(Xb)\n",
    "        preds.extend(logits.argmax(1).cpu().tolist())\n",
    "        gts.extend(yb.tolist())\n",
    "        \n",
    "test_acc = accuracy_score(gts, preds)\n",
    "print(f\"\\nTest accuracy: {test_acc*100:.2f}%\")\n",
    "\n",
    "cm = confusion_matrix(gts, preds)\n",
    "fig, ax = plt.subplots(figsize=(6, 6))\n",
    "display_labels = [label + 1 for label in sorted(set(gts))]\n",
    "disp = ConfusionMatrixDisplay(confusion_matrix=cm, display_labels=display_labels)\n",
    "disp.plot(cmap=plt.cm.Blues, ax=ax, values_format='d')  # 'd' = integer format\n",
    "plt.title(\"Confusion Matrix\")\n",
    "ax.invert_yaxis()\n",
    "plt.grid(False)\n",
    "plt.show()"
   ]
  },
  {
   "cell_type": "code",
   "execution_count": null,
   "id": "b4ff8bb0-62bd-49a2-a5ba-0177e743fb1a",
   "metadata": {},
   "outputs": [],
   "source": []
  }
 ],
 "metadata": {
  "kernelspec": {
   "display_name": "Python 3 (ipykernel)",
   "language": "python",
   "name": "python3"
  },
  "language_info": {
   "codemirror_mode": {
    "name": "ipython",
    "version": 3
   },
   "file_extension": ".py",
   "mimetype": "text/x-python",
   "name": "python",
   "nbconvert_exporter": "python",
   "pygments_lexer": "ipython3",
   "version": "3.10.6"
  }
 },
 "nbformat": 4,
 "nbformat_minor": 5
}
