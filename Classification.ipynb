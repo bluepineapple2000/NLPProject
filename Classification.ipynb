{
 "cells": [
  {
   "cell_type": "code",
   "execution_count": 56,
   "id": "acf1b056-25d0-405a-80b0-690656882a8d",
   "metadata": {},
   "outputs": [],
   "source": [
    "import sqlite3\n",
    "import pandas as pd\n",
    "from sklearn.feature_extraction.text import TfidfVectorizer\n",
    "from sklearn.preprocessing import StandardScaler\n",
    "from sklearn.linear_model import Ridge\n",
    "from sklearn.pipeline import make_pipeline\n",
    "from sklearn.model_selection import train_test_split\n",
    "from sklearn.metrics import mean_squared_error\n",
    "import torch\n",
    "import torch.nn as nn\n",
    "import torch.optim as optim\n",
    "from torch.utils.data import TensorDataset, DataLoader, random_split"
   ]
  },
  {
   "cell_type": "code",
   "execution_count": 39,
   "id": "6153de86-cb30-4a7f-be06-e5bbaddc2fac",
   "metadata": {},
   "outputs": [
    {
     "name": "stdout",
     "output_type": "stream",
     "text": [
      "Number of Rows without score: 19\n"
     ]
    }
   ],
   "source": [
    "conn = sqlite3.connect(\"scraped_data.db\")\n",
    "\n",
    "df = pd.read_sql_query(\"SELECT Preprocessed_Long_Text, Score FROM reviews\", conn)\n",
    "#sample_df = df.sample(n=6500, random_state=42)  # random_state for reproducibility\n",
    "\n",
    "# Rows with at least one NaN\n",
    "rows_with_nan = df[df.isna().any(axis=1)]\n",
    "print(\"Number of Rows without score:\", len(rows_with_nan))\n",
    "\n",
    "# Drop all rows with at least one NaN\n",
    "df_clean = df.dropna()\n",
    "\n",
    "\n",
    "X = df_clean['Preprocessed_Long_Text']\n",
    "Y = df_clean['Score']"
   ]
  },
  {
   "cell_type": "code",
   "execution_count": 34,
   "id": "b4435ae7-0f3f-4f86-ac68-360580dd0e95",
   "metadata": {},
   "outputs": [
    {
     "name": "stdout",
     "output_type": "stream",
     "text": [
      "RMSE: 1.4377544929197066\n"
     ]
    }
   ],
   "source": [
    "X_train, X_test, y_train, y_test = train_test_split(X, Y, test_size=0.2, random_state=42)\n",
    "\n",
    "#Ridge Regression\n",
    "model = make_pipeline(TfidfVectorizer(), Ridge())\n",
    "model.fit(X_train, y_train)\n",
    "\n",
    "preds = model.predict(X_test)\n",
    "print(\"RMSE:\", mean_squared_error(y_test, preds))"
   ]
  },
  {
   "cell_type": "code",
   "execution_count": 60,
   "id": "7ee85d2c-8194-4627-a28a-ae085e99639f",
   "metadata": {},
   "outputs": [],
   "source": [
    "# 1. Scale Y\n",
    "scaler_y = StandardScaler()\n",
    "y_scaled = scaler_y.fit_transform(Y.to_numpy().reshape(-1, 1)).flatten()\n",
    "\n",
    "# 2. TF-IDF -> takes bigrams input\n",
    "vectorizer = TfidfVectorizer(ngram_range=(1,2), max_features=20000)\n",
    "X_tfidf = vectorizer.fit_transform(X).toarray()\n",
    "\n",
    "# 3. Train-test split\n",
    "X_train, X_test, y_train, y_test = train_test_split(X_tfidf, y_scaled, test_size=0.2, random_state=42)\n",
    "\n",
    "# 4. Tensors\n",
    "X_train_tensor = torch.tensor(X_train, dtype=torch.float32)\n",
    "y_train_tensor = torch.tensor(y_train, dtype=torch.float32).view(-1, 1)\n",
    "X_test_tensor = torch.tensor(X_test, dtype=torch.float32)\n",
    "y_test_tensor = torch.tensor(y_test, dtype=torch.float32).view(-1, 1)\n",
    "\n",
    "# 5. Validation split\n",
    "full_dataset = TensorDataset(X_train_tensor, y_train_tensor)\n",
    "train_size = int(0.9 * len(full_dataset))\n",
    "val_size = len(full_dataset) - train_size\n",
    "train_dataset, val_dataset = random_split(full_dataset, [train_size, val_size])\n",
    "train_loader = DataLoader(train_dataset, batch_size=64, shuffle=True)\n",
    "val_loader = DataLoader(val_dataset, batch_size=64)\n"
   ]
  },
  {
   "cell_type": "code",
   "execution_count": 61,
   "id": "6d6a85c6-49a2-4a00-b596-de34ca8c77be",
   "metadata": {},
   "outputs": [
    {
     "name": "stdout",
     "output_type": "stream",
     "text": [
      "Epoch 1, Train Loss: 1.0019, Val Loss: 0.9694\n",
      "Epoch 2, Train Loss: 0.8949, Val Loss: 0.6682\n",
      "Epoch 3, Train Loss: 0.4563, Val Loss: 0.2958\n",
      "Epoch 4, Train Loss: 0.2510, Val Loss: 0.2663\n",
      "Epoch 5, Train Loss: 0.2004, Val Loss: 0.2547\n",
      "Epoch 6, Train Loss: 0.1636, Val Loss: 0.2536\n",
      "Epoch 7, Train Loss: 0.1360, Val Loss: 0.2512\n",
      "Epoch 8, Train Loss: 0.1169, Val Loss: 0.2596\n",
      "Epoch 9, Train Loss: 0.1019, Val Loss: 0.2601\n",
      "Epoch 10, Train Loss: 0.0841, Val Loss: 0.2601\n",
      "Early stopping triggered.\n",
      "Final RMSE: 1.2136303186416626\n"
     ]
    }
   ],
   "source": [
    "# 6. Model definition (keep your deeper model)\n",
    "class RegressionModel(nn.Module):\n",
    "    def __init__(self, input_dim):\n",
    "        super().__init__()\n",
    "        self.net = nn.Sequential(\n",
    "            nn.Linear(input_dim, 512),\n",
    "            nn.ReLU(),\n",
    "            nn.Dropout(0.5),\n",
    "            nn.Linear(512, 256),\n",
    "            nn.ReLU(),\n",
    "            nn.Dropout(0.4),\n",
    "            nn.Linear(256, 128),\n",
    "            nn.ReLU(),\n",
    "            nn.Dropout(0.4),\n",
    "            nn.Linear(128, 64),\n",
    "            nn.ReLU(),\n",
    "            nn.Dropout(0.3),\n",
    "            nn.Linear(64, 1)\n",
    "        )\n",
    "\n",
    "    def forward(self, x):\n",
    "        return self.net(x)\n",
    "\n",
    "model = RegressionModel(input_dim=X_train.shape[1])\n",
    "criterion = nn.MSELoss()\n",
    "optimizer = optim.Adam(model.parameters(), lr=1e-4, weight_decay=1e-5)\n",
    "\n",
    "# 7. Training with early stopping\n",
    "best_val_loss = float('inf')\n",
    "patience = 3\n",
    "patience_counter = 0\n",
    "epochs = 50\n",
    "\n",
    "for epoch in range(epochs):\n",
    "    model.train()\n",
    "    total_train_loss = 0\n",
    "    for batch_x, batch_y in train_loader:\n",
    "        optimizer.zero_grad()\n",
    "        outputs = model(batch_x)\n",
    "        loss = criterion(outputs, batch_y)\n",
    "        loss.backward()\n",
    "        optimizer.step()\n",
    "        total_train_loss += loss.item()\n",
    "\n",
    "    avg_train_loss = total_train_loss / len(train_loader)\n",
    "\n",
    "    # Validation loss\n",
    "    model.eval()\n",
    "    total_val_loss = 0\n",
    "    with torch.no_grad():\n",
    "        for val_x, val_y in val_loader:\n",
    "            val_preds = model(val_x)\n",
    "            val_loss = criterion(val_preds, val_y)\n",
    "            total_val_loss += val_loss.item()\n",
    "    avg_val_loss = total_val_loss / len(val_loader)\n",
    "\n",
    "    print(f\"Epoch {epoch+1}, Train Loss: {avg_train_loss:.4f}, Val Loss: {avg_val_loss:.4f}\")\n",
    "\n",
    "    # Early stopping\n",
    "    if avg_val_loss < best_val_loss:\n",
    "        best_val_loss = avg_val_loss\n",
    "        best_model_state = model.state_dict()\n",
    "        patience_counter = 0\n",
    "    else:\n",
    "        patience_counter += 1\n",
    "        if patience_counter >= patience:\n",
    "            print(\"Early stopping triggered.\")\n",
    "            break\n",
    "\n",
    "# 8. Evaluation on test set\n",
    "model.load_state_dict(best_model_state)\n",
    "model.eval()\n",
    "with torch.no_grad():\n",
    "    test_preds = model(X_test_tensor).cpu().numpy()\n",
    "    test_preds_rescaled = scaler_y.inverse_transform(test_preds)\n",
    "    y_test_rescaled = scaler_y.inverse_transform(y_test_tensor.cpu().numpy())\n",
    "    rmse = mean_squared_error(y_test_rescaled, test_preds_rescaled)\n",
    "    print(\"Final RMSE:\", rmse)"
   ]
  },
  {
   "cell_type": "code",
   "execution_count": 62,
   "id": "dbbeefd9-f6fb-4276-83f3-0b523360f6f5",
   "metadata": {},
   "outputs": [],
   "source": [
    "# do sentences: "
   ]
  },
  {
   "cell_type": "code",
   "execution_count": null,
   "id": "f6482292-63a6-4a47-ba98-d642cb71476d",
   "metadata": {},
   "outputs": [],
   "source": []
  },
  {
   "cell_type": "code",
   "execution_count": null,
   "id": "8f254125-bbb0-4717-b094-3a82ffc70bb8",
   "metadata": {},
   "outputs": [],
   "source": []
  }
 ],
 "metadata": {
  "kernelspec": {
   "display_name": "Python 3 (ipykernel)",
   "language": "python",
   "name": "python3"
  },
  "language_info": {
   "codemirror_mode": {
    "name": "ipython",
    "version": 3
   },
   "file_extension": ".py",
   "mimetype": "text/x-python",
   "name": "python",
   "nbconvert_exporter": "python",
   "pygments_lexer": "ipython3",
   "version": "3.12.7"
  }
 },
 "nbformat": 4,
 "nbformat_minor": 5
}
