{
 "cells": [
  {
   "cell_type": "code",
   "execution_count": 93,
   "id": "03663ef3",
   "metadata": {
    "vscode": {
     "languageId": "plaintext"
    }
   },
   "outputs": [
    {
     "data": {
      "text/plain": [
       "<torch._C.Generator at 0x7f9bb670da50>"
      ]
     },
     "execution_count": 93,
     "metadata": {},
     "output_type": "execute_result"
    }
   ],
   "source": [
    "import sqlite3\n",
    "import pandas as pd\n",
    "from sklearn.model_selection import train_test_split\n",
    "from sklearn.metrics import accuracy_score, confusion_matrix\n",
    "import torch, re\n",
    "import torch.nn as nn\n",
    "from torch.utils.data import TensorDataset, DataLoader\n",
    "from collections import Counter\n",
    "import time\n",
    "\n",
    "torch.manual_seed(1)"
   ]
  },
  {
   "cell_type": "code",
   "execution_count": 97,
   "id": "2c3b2138",
   "metadata": {
    "vscode": {
     "languageId": "plaintext"
    }
   },
   "outputs": [
    {
     "name": "stdout",
     "output_type": "stream",
     "text": [
      "Number of Rows without score: 5091\n"
     ]
    }
   ],
   "source": [
    "conn = sqlite3.connect(\"scraped_data.db\")\n",
    "\n",
    "df = pd.read_sql_query(\"SELECT * FROM reviews\", conn)\n",
    "#sample_df = df.sample(n=6500, random_state=42)  # random_state for reproducibility\n",
    "\n",
    "# Rows with at least one NaN\n",
    "rows_with_nan = df[df.isna().any(axis=1)]\n",
    "print(\"Number of Rows without score:\", len(rows_with_nan))\n",
    "\n",
    "# Drop all rows with at least one NaN\n",
    "df_clean = df.dropna()\n",
    "\n",
    "#Test on only few data examples\n",
    "#df_clean = df.sample(n=200, random_state=42)  # random_state for reproducibility\n",
    "\n",
    "\n",
    "X = df_clean['Tokenized_Long_Text']\n",
    "Y = df_clean['Score']\n",
    "pd.set_option('display.max_colwidth', None)\n"
   ]
  },
  {
   "cell_type": "code",
   "execution_count": 98,
   "id": "7497c3ab-26b9-4dc7-a808-8492a5f8c1f1",
   "metadata": {},
   "outputs": [],
   "source": [
    "X_train, X_test, y_train, y_test = train_test_split(X, Y, test_size=0.20, random_state=42)\n",
    "\n",
    "X_train, X_val, y_train, y_val = train_test_split(X_train, y_train, test_size=0.1, random_state=42)\n"
   ]
  },
  {
   "cell_type": "code",
   "execution_count": 99,
   "id": "12ebe1a4-3029-4a73-98ad-9c1ba7d0bf34",
   "metadata": {},
   "outputs": [],
   "source": [
    "def simple_tokenise(text):\n",
    "    # very basic: split on non‑letters, lowercase\n",
    "    return re.findall(r\"[A-Za-z0-9']+\", text.lower())\n",
    "\n",
    "# ➊ tokenise every review\n",
    "tokenised_train = [simple_tokenise(t) for t in X_train]\n",
    "tokenised_val   = [simple_tokenise(t) for t in X_val]\n",
    "tokenised_test  = [simple_tokenise(t) for t in X_test]\n",
    "\n",
    "# ➋ count words and map to indices\n",
    "counter = Counter(w for sent in tokenised for w in sent)\n",
    "specials = [\"<pad>\", \"<unk>\"]\n",
    "stoi = {w:i+len(specials) for i,(w,_) in enumerate(counter.most_common())}\n",
    "stoi.update({sp:i for i,sp in enumerate(specials)})  # add specials\n",
    "unk, pad = stoi[\"<unk>\"], stoi[\"<pad>\"]"
   ]
  },
  {
   "cell_type": "code",
   "execution_count": 100,
   "id": "1704ba72-ac18-48ae-9981-372491c68c1e",
   "metadata": {},
   "outputs": [],
   "source": [
    "max_len = 300  # truncate / pad length\n",
    "\n",
    "def encode(sent):\n",
    "    ids = [stoi.get(w, unk) for w in sent][:max_len]\n",
    "    return torch.tensor(ids + [pad]*(max_len-len(ids)), dtype=torch.long)\n",
    "\n",
    "encoded_train = torch.stack([encode(s) for s in tokenised_train])\n",
    "encoded_val   = torch.stack([encode(s) for s in tokenised_val])\n",
    "encoded_test  = torch.stack([encode(s) for s in tokenised_test])\n"
   ]
  },
  {
   "cell_type": "code",
   "execution_count": 101,
   "id": "deb01673-d056-4378-8a84-af9a47fa8375",
   "metadata": {},
   "outputs": [],
   "source": [
    "y_train = torch.tensor(y_train.values - 1, dtype=torch.long)  \n",
    "y_val = torch.tensor(y_val.values - 1, dtype=torch.long)\n",
    "y_test = torch.tensor(y_test.values - 1, dtype=torch.long)"
   ]
  },
  {
   "cell_type": "code",
   "execution_count": 102,
   "id": "0652225c-07ae-408e-9f5e-32a0839d131d",
   "metadata": {},
   "outputs": [],
   "source": [
    "batch_size = 64\n",
    "train_loader = DataLoader(\n",
    "    TensorDataset(encoded_train, y_train), shuffle=True, batch_size=batch_size\n",
    ")\n",
    "val_loader = DataLoader(\n",
    "    TensorDataset(encoded_val, y_val), shuffle=False, batch_size=batch_size\n",
    ")\n",
    "test_loader = DataLoader(\n",
    "    TensorDataset(encoded_test, y_test), shuffle=False, batch_size=batch_size\n",
    ")"
   ]
  },
  {
   "cell_type": "code",
   "execution_count": 103,
   "id": "9d1681c2-eff7-4131-aaf0-efcbacdfa4a6",
   "metadata": {},
   "outputs": [],
   "source": [
    "class ReviewLSTM(nn.Module):\n",
    "    def __init__(self, vocab_size, embed_dim=128, lstm_units=128, num_classes=10):\n",
    "        super().__init__()\n",
    "        self.emb  = nn.Embedding(vocab_size, embed_dim, padding_idx=pad)\n",
    "        self.lstm = nn.LSTM(embed_dim, lstm_units, batch_first=True, bidirectional=True)\n",
    "        self.pool = nn.AdaptiveMaxPool1d(1)\n",
    "        self.fc   = nn.Linear(lstm_units*2, num_classes)    # change to 1 for regression\n",
    "\n",
    "    def forward(self, x):\n",
    "        x = self.emb(x)                         # (B, L, E)\n",
    "        x, _ = self.lstm(x)                     # (B, L, 2H)\n",
    "        x = self.pool(x.transpose(1,2)).squeeze(-1)  # (B, 2H)\n",
    "        return self.fc(x)                       # (B, C)\n",
    "\n",
    "model = ReviewLSTM(len(stoi))\n"
   ]
  },
  {
   "cell_type": "code",
   "execution_count": 104,
   "id": "8ae42ce4-3415-4572-aa79-32b01aa3b513",
   "metadata": {},
   "outputs": [
    {
     "name": "stdout",
     "output_type": "stream",
     "text": [
      "Using cpu\n"
     ]
    }
   ],
   "source": [
    "device = torch.device(\"cuda\" if torch.cuda.is_available() else \"cpu\")\n",
    "print(\"Using\", device)"
   ]
  },
  {
   "cell_type": "code",
   "execution_count": 105,
   "id": "84e87e57-2c20-452b-93fa-0d7cfd878ffc",
   "metadata": {},
   "outputs": [],
   "source": [
    "# ── 2.  Model / optimiser / loss ────────────────────────────────\n",
    "model = ReviewLSTM(vocab_size=len(stoi)).to(device)\n",
    "criterion = nn.CrossEntropyLoss()\n",
    "optimiser = torch.optim.Adam(model.parameters(), lr=1e-3)\n",
    "\n",
    "# ── 3.  Training loop with early stopping ───────────────────────\n",
    "patience = 2\n",
    "best_val_acc = 0\n",
    "epochs_no_improve = 0\n",
    "num_epochs = 5"
   ]
  },
  {
   "cell_type": "code",
   "execution_count": 106,
   "id": "00f99d34-cd3e-4fd2-9a6d-33f59d8196f7",
   "metadata": {},
   "outputs": [
    {
     "name": "stdout",
     "output_type": "stream",
     "text": [
      "Epoch  1 | train loss 1.8327 | val loss 1.8846 | val acc 30.20% | time 4.2s\n",
      "Epoch  2 | train loss 1.6932 | val loss 1.8393 | val acc 30.20% | time 3.9s\n",
      "Epoch  3 | train loss 1.6453 | val loss 1.8330 | val acc 25.50% | time 3.8s\n",
      "Early stopping triggered.\n"
     ]
    }
   ],
   "source": [
    "for epoch in range(1, num_epochs + 1):\n",
    "    t0 = time.time()\n",
    "    # ---- train ----\n",
    "    model.train()\n",
    "    train_loss = 0\n",
    "    for Xb, yb in train_loader:\n",
    "        Xb, yb = Xb.to(device), yb.to(device)\n",
    "        optimiser.zero_grad()\n",
    "        logits = model(Xb)\n",
    "        loss = criterion(logits, yb)\n",
    "        loss.backward()\n",
    "        optimiser.step()\n",
    "        train_loss += loss.item() * Xb.size(0)\n",
    "\n",
    "    # ---- validate ----\n",
    "    model.eval()\n",
    "    val_loss, preds, gts = 0, [], []\n",
    "    with torch.no_grad():\n",
    "        for Xb, yb in val_loader:\n",
    "            Xb, yb = Xb.to(device), yb.to(device)\n",
    "            logits = model(Xb)\n",
    "            loss = criterion(logits, yb)\n",
    "            val_loss += loss.item() * Xb.size(0)\n",
    "            preds.extend(logits.argmax(1).cpu().tolist())\n",
    "            gts.extend(yb.cpu().tolist())\n",
    "\n",
    "    train_loss /= len(train_loader.dataset)\n",
    "    val_loss   /= len(val_loader.dataset)\n",
    "    val_acc     = accuracy_score(gts, preds)\n",
    "\n",
    "    print(f\"Epoch {epoch:2d} | \"\n",
    "          f\"train loss {train_loss:.4f} | \"\n",
    "          f\"val loss {val_loss:.4f} | \"\n",
    "          f\"val acc {val_acc*100:5.2f}% | \"\n",
    "          f\"time {time.time()-t0:.1f}s\")\n",
    "\n",
    "\n",
    "    # ---- early stopping ----\n",
    "    if val_acc > best_val_acc:\n",
    "        best_val_acc = val_acc\n",
    "        torch.save(model.state_dict(), \"best_review_lstm.pth\")\n",
    "        epochs_no_improve = 0\n",
    "    else:\n",
    "        epochs_no_improve += 1\n",
    "        if epochs_no_improve >= patience:\n",
    "            print(\"Early stopping triggered.\")\n",
    "            break"
   ]
  },
  {
   "cell_type": "code",
   "execution_count": 107,
   "id": "b66bb8cf-8e24-4b98-8695-a787fc73b007",
   "metadata": {},
   "outputs": [
    {
     "name": "stdout",
     "output_type": "stream",
     "text": [
      "\n",
      "Test accuracy: 26.15%\n",
      "Confusion‑matrix (rows=true, cols=pred):\n",
      " [[ 0  0  0  0  0  0  1  0  0  0]\n",
      " [ 0  0  0  0  0  0  1  0  0  0]\n",
      " [ 0  0  0  0  0  0  6  0  0  0]\n",
      " [ 0  0  0  0  0  0 15  1  0  0]\n",
      " [ 0  0  0  0  0  0 22  2  0  0]\n",
      " [ 0  0  0  0  0  0 47  7  0  0]\n",
      " [ 0  0  0  0  0  0 80 15  0  0]\n",
      " [ 0  0  0  0  0  0 98 16  0  0]\n",
      " [ 0  0  0  0  0  0 48 10  1  0]\n",
      " [ 0  0  0  0  0  0  1  0  0  0]]\n"
     ]
    }
   ],
   "source": [
    "# ── 4.  Load best & evaluate on test set ────────────────────────\n",
    "#model.load_state_dict(torch.load(\"best_review_lstm.pth\"))\n",
    "model.eval()\n",
    "preds, gts = [], []\n",
    "with torch.no_grad():\n",
    "    for Xb, yb in test_loader:\n",
    "        Xb = Xb.to(device)\n",
    "        logits = model(Xb)\n",
    "        preds.extend(logits.argmax(1).cpu().tolist())\n",
    "        gts.extend(yb.tolist())\n",
    "        \n",
    "test_acc = accuracy_score(gts, preds)\n",
    "print(f\"\\nTest accuracy: {test_acc*100:.2f}%\")\n",
    "\n",
    "# optional: confusion matrix\n",
    "cm = confusion_matrix(gts, preds)\n",
    "print(\"Confusion‑matrix (rows=true, cols=pred):\\n\", cm)"
   ]
  },
  {
   "cell_type": "code",
   "execution_count": null,
   "id": "717bb593-2d4d-4fa6-b485-94f6631c5e6e",
   "metadata": {},
   "outputs": [],
   "source": []
  }
 ],
 "metadata": {
  "kernelspec": {
   "display_name": "Python 3 (ipykernel)",
   "language": "python",
   "name": "python3"
  },
  "language_info": {
   "codemirror_mode": {
    "name": "ipython",
    "version": 3
   },
   "file_extension": ".py",
   "mimetype": "text/x-python",
   "name": "python",
   "nbconvert_exporter": "python",
   "pygments_lexer": "ipython3",
   "version": "3.12.7"
  }
 },
 "nbformat": 4,
 "nbformat_minor": 5
}
