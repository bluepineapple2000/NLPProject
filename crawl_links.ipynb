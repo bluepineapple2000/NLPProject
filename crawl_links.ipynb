{
 "cells": [
  {
   "cell_type": "markdown",
   "metadata": {},
   "source": [
    "## this is to crawl all the seperate links\n"
   ]
  },
  {
   "cell_type": "code",
   "execution_count": null,
   "metadata": {},
   "outputs": [],
   "source": [
    "import time\n",
    "import csv\n",
    "from selenium import webdriver\n",
    "from selenium.webdriver.chrome.service import Service as ChromiumService\n",
    "from selenium.webdriver.support.ui import Select, WebDriverWait\n",
    "from selenium.webdriver.common.by import By\n",
    "from selenium.webdriver.support import expected_conditions as EC\n",
    "from webdriver_manager.chrome import ChromeDriverManager\n",
    "from webdriver_manager.core.os_manager import ChromeType"
   ]
  },
  {
   "cell_type": "code",
   "execution_count": null,
   "metadata": {},
   "outputs": [],
   "source": [
    "# Setup\n",
    "options = webdriver.ChromeOptions()\n",
    "options.add_argument(\"--start-maximized\")\n",
    "driver = webdriver.Chrome(service=ChromiumService(ChromeDriverManager(chrome_type=ChromeType.CHROMIUM).install()), options=options)\n",
    "driver.get(\"https://www.ign.com/reviews/games\")"
   ]
  },
  {
   "cell_type": "code",
   "execution_count": null,
   "metadata": {},
   "outputs": [],
   "source": [
    "# Cookie-Banner wegklicken\n",
    "try:\n",
    "    accept_btn = WebDriverWait(driver, 5).until(\n",
    "        EC.element_to_be_clickable((By.XPATH, \"//button[contains(text(), 'Accept')]\"))\n",
    "    )\n",
    "    accept_btn.click()\n",
    "    print(\"🍪 Cookie-Banner akzeptiert\")\n",
    "    time.sleep(2)\n",
    "except:\n",
    "    print(\"ℹ️ Kein Cookie-Banner gefunden oder bereits akzeptiert\")"
   ]
  },
  {
   "cell_type": "code",
   "execution_count": 11,
   "metadata": {},
   "outputs": [
    {
     "name": "stdout",
     "output_type": "stream",
     "text": [
      "https://www.ign.com/articles/arcs-board-game-review\n",
      "https://www.ign.com/articles/elden-ring-shadow-of-the-erdtree-dlc-review\n",
      "https://www.ign.com/articles/stardew-valley-review-2024\n"
     ]
    }
   ],
   "source": [
    "# CSV auslesen und iterieren\n",
    "\n",
    "with open('reviews.csv', 'r', newline='') as csvfile:\n",
    "    reader = csv.DictReader(csvfile)\n",
    "    \n",
    "    for i, row in enumerate(reader):\n",
    "        if i >= 3:  # Stop after 2 rows\n",
    "            break\n",
    "        print(row['link'])  # Print only the URL (second column)\n",
    "\n"
   ]
  },
  {
   "cell_type": "code",
   "execution_count": null,
   "metadata": {},
   "outputs": [],
   "source": []
  }
 ],
 "metadata": {
  "kernelspec": {
   "display_name": "Python 3 (ipykernel)",
   "language": "python",
   "name": "python3"
  }
 },
 "nbformat": 4,
 "nbformat_minor": 2
}
